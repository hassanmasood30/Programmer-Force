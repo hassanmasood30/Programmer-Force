{
  "nbformat": 4,
  "nbformat_minor": 0,
  "metadata": {
    "colab": {
      "provenance": []
    },
    "kernelspec": {
      "name": "python3",
      "display_name": "Python 3"
    },
    "language_info": {
      "name": "python"
    }
  },
  "cells": [
    {
      "cell_type": "markdown",
      "source": [
        "**Basic Problems**"
      ],
      "metadata": {
        "id": "DMulpE8P9HP8"
      }
    },
    {
      "cell_type": "code",
      "source": [
        "#Python Program to Add Two Numbers\n",
        "num1 = 5\n",
        "num2 = 7\n",
        "sum = num1 + num2\n",
        "print(\"Sum of\", num1 , \"and\", num2, \"is\", sum)"
      ],
      "metadata": {
        "colab": {
          "base_uri": "https://localhost:8080/"
        },
        "id": "o77M-21_9Tjj",
        "outputId": "06e4d9c8-6761-451f-c453-e411267d396d"
      },
      "execution_count": 49,
      "outputs": [
        {
          "output_type": "stream",
          "name": "stdout",
          "text": [
            "Sum of 5 and 7 is 12\n"
          ]
        }
      ]
    },
    {
      "cell_type": "code",
      "source": [
        "#Maximum between two numbers\n",
        "def maxnumber(a,b):\n",
        "  if a >= b:\n",
        "    return a\n",
        "  else:\n",
        "    return b\n",
        "\n",
        "a = int(input(\"Enter First Number\"))\n",
        "b = int(input(\"Enter Second Number\"))\n",
        "print(\"Max Number is:\",maxnumber(a,b))"
      ],
      "metadata": {
        "colab": {
          "base_uri": "https://localhost:8080/"
        },
        "id": "P3eN647G-HYz",
        "outputId": "5c6debe7-1b02-4681-b4c0-4ceea16d2d2e"
      },
      "execution_count": 50,
      "outputs": [
        {
          "output_type": "stream",
          "name": "stdout",
          "text": [
            "Enter First Number6\n",
            "Enter Second Number3\n",
            "Max Number is: 6\n"
          ]
        }
      ]
    },
    {
      "cell_type": "code",
      "source": [
        "#Python Program to Find the Factorial of a Number\n",
        "def factorial(a):\n",
        "  if (a == 1 & a == 0):\n",
        "    return 1\n",
        "  else:\n",
        "    return a * factorial (a - 1)\n",
        "\n",
        "a = int(input(\"Enter the Number\"))\n",
        "print(\"Factorial is:\",factorial(a))\n"
      ],
      "metadata": {
        "colab": {
          "base_uri": "https://localhost:8080/"
        },
        "id": "YYUjDseGAR8p",
        "outputId": "75007a14-23c2-4f92-8e5b-0fecbe5af0d7"
      },
      "execution_count": 51,
      "outputs": [
        {
          "output_type": "stream",
          "name": "stdout",
          "text": [
            "Enter the Number5\n",
            "Factorial is: 120\n"
          ]
        }
      ]
    },
    {
      "cell_type": "code",
      "source": [
        "#Python Program for Simple Interest\n",
        "def SimpleInterest(a,b,c):\n",
        "  interest = (a*b*c)/100\n",
        "  return interest\n",
        "\n",
        "a = int(input(\"Enter Principle Amount: \"))\n",
        "b = int(input(\"Enter Time Period: \"))\n",
        "c = int(input(\"Enter rate of Interest: \"))\n",
        "print(\"Simple Interest is:\",SimpleInterest(a,b,c))"
      ],
      "metadata": {
        "id": "_7N0bLksAOjU",
        "colab": {
          "base_uri": "https://localhost:8080/"
        },
        "outputId": "55f8ff45-bb3a-4b95-a344-85c861cdab80"
      },
      "execution_count": 52,
      "outputs": [
        {
          "output_type": "stream",
          "name": "stdout",
          "text": [
            "Enter Principle Amount: 5000\n",
            "Enter Time Period: 4\n",
            "Enter rate of Interest: 3\n",
            "Simple Interest is: 600.0\n"
          ]
        }
      ]
    },
    {
      "cell_type": "code",
      "source": [
        "#Python Program for Compound Interest\n",
        "def CompoundInterest(p,r,t):\n",
        "  a = p * (pow((1 + r/100),t))\n",
        "  CompoundInterest = a - p\n",
        "  return CompoundInterest\n",
        "\n",
        "p = int(input(\"Enter Principle Amount: \"))\n",
        "t = int(input(\"Enter Time Period: \"))\n",
        "r = int(input(\"Enter rate of Interest: \"))\n",
        "print(\"Compound Interest is:\",CompoundInterest(p,r,t))"
      ],
      "metadata": {
        "colab": {
          "base_uri": "https://localhost:8080/"
        },
        "id": "eF7z_-I0D6rD",
        "outputId": "4e1c6328-0b14-4a9d-830f-efb4da104260"
      },
      "execution_count": 53,
      "outputs": [
        {
          "output_type": "stream",
          "name": "stdout",
          "text": [
            "Enter Principle Amount: 3000\n",
            "Enter Time Period: 2\n",
            "Enter rate of Interest: 3\n",
            "Compound Interest is: 182.69999999999982\n"
          ]
        }
      ]
    },
    {
      "cell_type": "code",
      "source": [
        "#Python Program to Find Area of a Circle\n",
        "def area(rd):\n",
        "  Pi = 3.14\n",
        "  return Pi * (rd * rd)\n",
        "\n",
        "rd = float(input(\"Enter the radius: \"))\n",
        "print(\"Area is :\",area(rd))\n"
      ],
      "metadata": {
        "colab": {
          "base_uri": "https://localhost:8080/"
        },
        "id": "-19F8Z3uGK3p",
        "outputId": "de8c4df9-6ad6-407c-ed82-497b65da284e"
      },
      "execution_count": 54,
      "outputs": [
        {
          "output_type": "stream",
          "name": "stdout",
          "text": [
            "Enter the radius: 3.4\n",
            "Area is : 36.2984\n"
          ]
        }
      ]
    },
    {
      "cell_type": "code",
      "source": [
        "#Program to print ASCII Value of a character\n",
        "c = 'A'\n",
        "print(\"The ASCII value of '\" + c + \"' is\", ord(c))"
      ],
      "metadata": {
        "colab": {
          "base_uri": "https://localhost:8080/"
        },
        "id": "9ZcL69U9Su5-",
        "outputId": "a3b29988-c142-4978-de42-34d8af34dddf"
      },
      "execution_count": 55,
      "outputs": [
        {
          "output_type": "stream",
          "name": "stdout",
          "text": [
            "The ASCII value of 'A' is 65\n"
          ]
        }
      ]
    },
    {
      "cell_type": "code",
      "source": [
        "#Find sum of square of first n natural numbers\n",
        "def squaresum(n):\n",
        "\tsm = 0\n",
        "\tfor i in range(1, n+1):\n",
        "\t\tsm = sm + (i * i)\n",
        "\treturn sm\n",
        "\n",
        "n = int(input(\"Enter the Number: \"))\n",
        "print(squaresum(n))"
      ],
      "metadata": {
        "colab": {
          "base_uri": "https://localhost:8080/"
        },
        "id": "Nf0UkCPNVawA",
        "outputId": "cb4f4e1b-b54c-4eda-9b63-f61ce84b2e25"
      },
      "execution_count": 56,
      "outputs": [
        {
          "output_type": "stream",
          "name": "stdout",
          "text": [
            "Enter the Number: 4\n",
            "30\n"
          ]
        }
      ]
    },
    {
      "cell_type": "code",
      "source": [
        "def Cubesum(n):\n",
        "\tcm = 0\n",
        "\tfor i in range(1, n+1):\n",
        "\t\tcm = cm + (i * i * i)\n",
        "\treturn cm\n",
        "\n",
        "n = int(input(\"Enter the Number: \"))\n",
        "print(Cubesum(n))"
      ],
      "metadata": {
        "colab": {
          "base_uri": "https://localhost:8080/"
        },
        "id": "cOe9OvEwaAFl",
        "outputId": "4e588591-1cc2-4140-82f4-ae197589abbe"
      },
      "execution_count": 57,
      "outputs": [
        {
          "output_type": "stream",
          "name": "stdout",
          "text": [
            "Enter the Number: 6\n",
            "441\n"
          ]
        }
      ]
    },
    {
      "cell_type": "code",
      "source": [
        "def Fibonacci(n):\n",
        "    if n<= 0:\n",
        "        print(\"Incorrect input\")\n",
        "    elif n == 1:\n",
        "        return 0\n",
        "    elif n == 2:\n",
        "        return 1\n",
        "    else:\n",
        "        return Fibonacci(n-1)+Fibonacci(n-2)\n",
        "\n",
        "\n",
        "n = int(input(\"Enter the Number: \"))\n",
        "print(Fibonacci(n))"
      ],
      "metadata": {
        "colab": {
          "base_uri": "https://localhost:8080/"
        },
        "id": "pHx2IMGSgDxu",
        "outputId": "aa4cb03d-3a44-4cb5-f7d1-961a523dba87"
      },
      "execution_count": 58,
      "outputs": [
        {
          "output_type": "stream",
          "name": "stdout",
          "text": [
            "Enter the Number: 3\n",
            "1\n"
          ]
        }
      ]
    },
    {
      "cell_type": "markdown",
      "source": [
        "**Array Problems**"
      ],
      "metadata": {
        "id": "gcjW2I6cctNj"
      }
    },
    {
      "cell_type": "code",
      "source": [
        "#Find sum of elements in given array\n",
        "def sum_of_array(arr):\n",
        "  sum = 0\n",
        "  for i in arr:\n",
        "    sum = sum + i;\n",
        "  return(sum)\n",
        "\n",
        "arr = [1,2,3,4,5]\n",
        "t_sum = sum_of_array(arr)\n",
        "print(\"Sum of Array: \",t_sum)\n"
      ],
      "metadata": {
        "id": "TH9ATIkLVZ3p",
        "colab": {
          "base_uri": "https://localhost:8080/"
        },
        "outputId": "33367d7a-0b76-418e-b291-836c238a8eb4"
      },
      "execution_count": 59,
      "outputs": [
        {
          "output_type": "stream",
          "name": "stdout",
          "text": [
            "Sum of Array:  15\n"
          ]
        }
      ]
    },
    {
      "cell_type": "code",
      "source": [
        "#Max Number from Array\n",
        "def max_array(arr):\n",
        "  ans = max(arr)\n",
        "  return ans\n",
        "\n",
        "arr = [1,2,3,4,5]\n",
        "Max = max_array(arr)\n",
        "print(\"Max from Array: \",Max)"
      ],
      "metadata": {
        "colab": {
          "base_uri": "https://localhost:8080/"
        },
        "id": "5xB0dIrU5pNN",
        "outputId": "08e8f888-a8e2-4fc5-9b98-61b413723613"
      },
      "execution_count": 60,
      "outputs": [
        {
          "output_type": "stream",
          "name": "stdout",
          "text": [
            "Max from Array:  5\n"
          ]
        }
      ]
    },
    {
      "cell_type": "code",
      "source": [
        "#Find remainder of array multiplication divided by n\n",
        "arr = [100, 10, 5, 25, 35, 14];lens = len(arr);n = 11\n",
        "mul = 1\n",
        "for i in range(lens):\n",
        "    mul = (mul * (arr[i] % n)) % n\n",
        "print(mul % n)"
      ],
      "metadata": {
        "colab": {
          "base_uri": "https://localhost:8080/"
        },
        "id": "08GlkhOLjc3R",
        "outputId": "23c818f1-a38b-4051-b175-f41d17ec0d60"
      },
      "execution_count": 61,
      "outputs": [
        {
          "output_type": "stream",
          "name": "stdout",
          "text": [
            "9\n"
          ]
        }
      ]
    },
    {
      "cell_type": "code",
      "source": [
        "# Check if given array is Monotonic\n",
        "def isMonotonic(A):\n",
        "    x, y = [], []\n",
        "    x.extend(A)\n",
        "    y.extend(A)\n",
        "    x.sort()\n",
        "    y.sort(reverse=True)\n",
        "    if(x == A or y == A):\n",
        "        return True\n",
        "    return False\n",
        "\n",
        "\n",
        "# Driver program\n",
        "A = [6, 5, 4, 4]\n",
        "\n",
        "# Print required result\n",
        "print(isMonotonic(A))"
      ],
      "metadata": {
        "colab": {
          "base_uri": "https://localhost:8080/"
        },
        "id": "hsnL50kijuXq",
        "outputId": "624ace9f-d2e2-46ad-b72a-2f41f74e8e24"
      },
      "execution_count": 62,
      "outputs": [
        {
          "output_type": "stream",
          "name": "stdout",
          "text": [
            "True\n"
          ]
        }
      ]
    },
    {
      "cell_type": "markdown",
      "source": [
        "**List Problems**"
      ],
      "metadata": {
        "id": "-DAZHFFalkys"
      }
    },
    {
      "cell_type": "code",
      "source": [
        "def swapList(newList):\n",
        "\n",
        "    newList[0], newList[-1] = newList[-1], newList[0]\n",
        "\n",
        "    return newList\n",
        "\n",
        "newList = [12, 35, 9, 56, 24]\n",
        "print(swapList(newList))"
      ],
      "metadata": {
        "colab": {
          "base_uri": "https://localhost:8080/"
        },
        "id": "5jM9IuqFluHS",
        "outputId": "de4a747e-a8e0-4957-fb58-48d2751796da"
      },
      "execution_count": 63,
      "outputs": [
        {
          "output_type": "stream",
          "name": "stdout",
          "text": [
            "[24, 35, 9, 56, 12]\n"
          ]
        }
      ]
    },
    {
      "cell_type": "code",
      "source": [
        "def swapPositions(list, pos1, pos2):\n",
        "\n",
        "    list[pos1], list[pos2] = list[pos2], list[pos1]\n",
        "    return list\n",
        "\n",
        "List = [23, 65, 19, 90]\n",
        "pos1, pos2  = 0, 3\n",
        "\n",
        "print(swapPositions(List, pos1, pos2))"
      ],
      "metadata": {
        "colab": {
          "base_uri": "https://localhost:8080/"
        },
        "id": "csWMNaAumHht",
        "outputId": "4e150998-b7fc-4d58-a674-f36bc34b938d"
      },
      "execution_count": 64,
      "outputs": [
        {
          "output_type": "stream",
          "name": "stdout",
          "text": [
            "[90, 65, 19, 23]\n"
          ]
        }
      ]
    },
    {
      "cell_type": "code",
      "source": [
        "# Python program to find largest number in a list\n",
        "list1 = [10, 20, 4, 45, 99]\n",
        "list1.sort()\n",
        "\n",
        "print(\"Largest element is:\", list1[-1])"
      ],
      "metadata": {
        "colab": {
          "base_uri": "https://localhost:8080/"
        },
        "id": "rMZN4kdInVgV",
        "outputId": "06f5785d-355d-49c8-f7a9-0f5189ec4a4b"
      },
      "execution_count": 67,
      "outputs": [
        {
          "output_type": "stream",
          "name": "stdout",
          "text": [
            "Largest element is: 99\n"
          ]
        }
      ]
    },
    {
      "cell_type": "code",
      "source": [
        "# Python program to find N largest element from given list of integers\n",
        "l = [1000, 298, 3579, 100, 200, -45, 900]\n",
        "n = 4\n",
        "l.sort()\n",
        "print(l[-n:])"
      ],
      "metadata": {
        "colab": {
          "base_uri": "https://localhost:8080/"
        },
        "id": "DYrOyXoun0IH",
        "outputId": "e83e7df1-c900-4fa6-8e40-08e968cf7972"
      },
      "execution_count": 68,
      "outputs": [
        {
          "output_type": "stream",
          "name": "stdout",
          "text": [
            "[298, 900, 1000, 3579]\n"
          ]
        }
      ]
    },
    {
      "cell_type": "code",
      "source": [
        "# Python program to print odd Numbers in given range\n",
        "\n",
        "start = int(input(\"Enter the start of range:\"))\n",
        "end = int(input(\"Enter the end of range:\"))\n",
        "\n",
        "for num in range(start, end + 1):\n",
        "    if num % 2 != 0:\n",
        "        print(num)"
      ],
      "metadata": {
        "colab": {
          "base_uri": "https://localhost:8080/"
        },
        "id": "aPtUSkpUn7Vt",
        "outputId": "fb1f094e-0dac-42f8-d131-b1372478a647"
      },
      "execution_count": 69,
      "outputs": [
        {
          "output_type": "stream",
          "name": "stdout",
          "text": [
            "Enter the start of range:5\n",
            "Enter the end of range:10\n",
            "5\n",
            "7\n",
            "9\n"
          ]
        }
      ]
    },
    {
      "cell_type": "code",
      "source": [
        "# Python program to print negative Numbers in a List\n",
        "list1 = [11, -21, 0, 45, 66, -93]\n",
        "for num in list1:\n",
        "    if num < 0:\n",
        "       print(num, end=\" \")"
      ],
      "metadata": {
        "colab": {
          "base_uri": "https://localhost:8080/"
        },
        "id": "8CC0qv0QoxQP",
        "outputId": "62ee087e-e2e1-4b53-e45e-79d329d5b91b"
      },
      "execution_count": 70,
      "outputs": [
        {
          "output_type": "stream",
          "name": "stdout",
          "text": [
            "-21 -93 "
          ]
        }
      ]
    },
    {
      "cell_type": "code",
      "source": [
        "# Python program to remove multiple\n",
        "list1 = [11, 5, 17, 18, 23, 50]\n",
        "unwanted_num = {11, 5}\n",
        "\n",
        "list1 = [ele for ele in list1 if ele not in unwanted_num]\n",
        "print(\"New list after removing unwanted numbers: \", list1)"
      ],
      "metadata": {
        "colab": {
          "base_uri": "https://localhost:8080/"
        },
        "id": "8P7kqiH0qJJH",
        "outputId": "bdf42fb6-f9fd-4b7d-a8c5-f72e2f9736e0"
      },
      "execution_count": 71,
      "outputs": [
        {
          "output_type": "stream",
          "name": "stdout",
          "text": [
            "New list after removing unwanted numbers:  [17, 18, 23, 50]\n"
          ]
        }
      ]
    },
    {
      "cell_type": "code",
      "source": [
        "# Demonstrate Remove empty List\n",
        "# from List using filter() Method\n",
        "test_list = [5, 6, [], 3, [], [], 9]\n",
        "res = list(filter(None, test_list))\n",
        "print(\"List after empty list removal : \" + str(res))"
      ],
      "metadata": {
        "id": "KVU6yxkxplnf"
      },
      "execution_count": null,
      "outputs": []
    },
    {
      "cell_type": "code",
      "source": [
        "# Python code to clone or copy a list\n",
        "def Cloning(li1):\n",
        "    li_copy =[]\n",
        "    li_copy = li1.copy()\n",
        "    return li_copy\n",
        "li1 = [4, 8, 2, 10, 15, 18]\n",
        "li2 = Cloning(li1)\n",
        "print(\"Original List:\", li1)\n",
        "print(\"After Cloning:\", li2)"
      ],
      "metadata": {
        "colab": {
          "base_uri": "https://localhost:8080/"
        },
        "id": "i5uVAb9arcim",
        "outputId": "96435da1-d046-4063-e66a-8c265acaed25"
      },
      "execution_count": 74,
      "outputs": [
        {
          "output_type": "stream",
          "name": "stdout",
          "text": [
            "Original List: [4, 8, 2, 10, 15, 18]\n",
            "After Cloning: [4, 8, 2, 10, 15, 18]\n"
          ]
        }
      ]
    },
    {
      "cell_type": "code",
      "source": [
        "# Python program to print duplicates from\n",
        "lis = [1, 2, 1, 2, 3, 4, 5, 1, 1, 2, 5, 6, 7, 8, 9, 9]\n",
        "\n",
        "uniqueList = []\n",
        "duplicateList = []\n",
        "\n",
        "for i in lis:\n",
        "    if i not in uniqueList:\n",
        "        uniqueList.append(i)\n",
        "    elif i not in duplicateList:\n",
        "        duplicateList.append(i)\n",
        "\n",
        "print(duplicateList)"
      ],
      "metadata": {
        "colab": {
          "base_uri": "https://localhost:8080/"
        },
        "id": "4Drb5FcSr_FP",
        "outputId": "27ccd5fc-a8fb-4d19-b4a2-a3e14b9ba794"
      },
      "execution_count": 73,
      "outputs": [
        {
          "output_type": "stream",
          "name": "stdout",
          "text": [
            "[1, 2, 5, 9]\n"
          ]
        }
      ]
    },
    {
      "cell_type": "markdown",
      "source": [
        "**Matrix Questions**"
      ],
      "metadata": {
        "id": "dyTSD2TtscS0"
      }
    },
    {
      "cell_type": "code",
      "source": [
        "import numpy as np\n",
        "\n",
        "X = [[1,2,3],\n",
        "    [4 ,5,6],\n",
        "    [7 ,8,9]]\n",
        "\n",
        "Y = [[9,8,7],\n",
        "    [6,5,4],\n",
        "    [3,2,1]]\n",
        "\n",
        "result = np.array(X) + np.array(Y)\n",
        "\n",
        "print(result)"
      ],
      "metadata": {
        "colab": {
          "base_uri": "https://localhost:8080/"
        },
        "id": "H4H0X0XmsZrY",
        "outputId": "5cf066c7-90ed-41bd-9a58-a6bf6d087549"
      },
      "execution_count": 75,
      "outputs": [
        {
          "output_type": "stream",
          "name": "stdout",
          "text": [
            "[[10 10 10]\n",
            " [10 10 10]\n",
            " [10 10 10]]\n"
          ]
        }
      ]
    },
    {
      "cell_type": "code",
      "source": [
        "# Matrix Product\n",
        "test_list = [[1, 4, 5], [7, 3], [4], [46, 7, 3]]\n",
        "res = 1\n",
        "for i in test_list:\n",
        "    for j in i:\n",
        "        res *= j\n",
        "print(\"The total element product in lists is : \" + str(res))"
      ],
      "metadata": {
        "colab": {
          "base_uri": "https://localhost:8080/"
        },
        "id": "qyWazW-px3k-",
        "outputId": "936c97ed-3a63-45aa-a5b2-dce7ab44cc0a"
      },
      "execution_count": 76,
      "outputs": [
        {
          "output_type": "stream",
          "name": "stdout",
          "text": [
            "The total element product in lists is : 1622880\n"
          ]
        }
      ]
    },
    {
      "cell_type": "code",
      "source": [
        "#Matrix Addition\n",
        "A = np.array([[1, 2], [3, 4]])\n",
        "B = np.array([[4, 5], [6, 7]])\n",
        "print(np.add(A, B))"
      ],
      "metadata": {
        "colab": {
          "base_uri": "https://localhost:8080/"
        },
        "id": "3_nGECXTyICc",
        "outputId": "957fc769-e542-4eb9-eefa-1609fc8375ea"
      },
      "execution_count": 77,
      "outputs": [
        {
          "output_type": "stream",
          "name": "stdout",
          "text": [
            "[[ 5  7]\n",
            " [ 9 11]]\n"
          ]
        }
      ]
    },
    {
      "cell_type": "code",
      "source": [
        "#Transpose of Matrix\n",
        "matrix = np.array([[1,2,3],[4,5,6]])\n",
        "print(matrix.T)"
      ],
      "metadata": {
        "colab": {
          "base_uri": "https://localhost:8080/"
        },
        "id": "AWFvYydCyZKI",
        "outputId": "bab6c2d6-fcb6-4eab-c344-1aa05992d77b"
      },
      "execution_count": 78,
      "outputs": [
        {
          "output_type": "stream",
          "name": "stdout",
          "text": [
            "[[1 4]\n",
            " [2 5]\n",
            " [3 6]]\n"
          ]
        }
      ]
    },
    {
      "cell_type": "code",
      "source": [
        "#Vertical Concatenation in Matrix\n",
        "test_list = [[\"Gfg\", \"good\"], [\"is\", \"for\"], [\"Best\"]]\n",
        "max_len = max(len(sublist) for sublist in test_list)\n",
        "padded_list = [sublist + [''] * (max_len - len(sublist)) for sublist in test_list]\n",
        "arr = np.array(padded_list)\n",
        "arr_t = arr.T\n",
        "res = [''.join(row) for row in arr_t]\n",
        "print(\"List after column concatenation: \" + str(res))"
      ],
      "metadata": {
        "colab": {
          "base_uri": "https://localhost:8080/"
        },
        "id": "a-45Bd-5y2ZT",
        "outputId": "5fc02092-a55a-42f0-b59f-8d1cad495b44"
      },
      "execution_count": 79,
      "outputs": [
        {
          "output_type": "stream",
          "name": "stdout",
          "text": [
            "List after column concatenation: ['GfgisBest', 'goodfor']\n"
          ]
        }
      ]
    },
    {
      "cell_type": "markdown",
      "source": [
        "**Strings Question**"
      ],
      "metadata": {
        "id": "tQVPOuagzJuX"
      }
    },
    {
      "cell_type": "code",
      "source": [
        "#Program to Check if a String is Palindrome or Not\n",
        "def isPalindrome(s):\n",
        "    return s == s[::-1]\n",
        "s = \"aabbbaa\"\n",
        "ans = isPalindrome(s)\n",
        "\n",
        "if ans:\n",
        "    print(\"Yes\")\n",
        "else:\n",
        "    print(\"No\")"
      ],
      "metadata": {
        "colab": {
          "base_uri": "https://localhost:8080/"
        },
        "id": "pmAT5bnfzs1G",
        "outputId": "6df62788-9a45-4170-fb60-65052846324b"
      },
      "execution_count": 80,
      "outputs": [
        {
          "output_type": "stream",
          "name": "stdout",
          "text": [
            "Yes\n"
          ]
        }
      ]
    },
    {
      "cell_type": "code",
      "source": [
        "#Check if a Substring is Present in a Given String\n",
        "MyString1 = \"My name is hassan masood\"\n",
        "\n",
        "if \"name\" in MyString1:\n",
        "    print(\"Yes! it is present in the string\")\n",
        "else:\n",
        "    print(\"No! it is not present\")"
      ],
      "metadata": {
        "colab": {
          "base_uri": "https://localhost:8080/"
        },
        "id": "UKZx8zRC0r4g",
        "outputId": "68a28d72-f154-4e04-dd4a-dda426f3b057"
      },
      "execution_count": 81,
      "outputs": [
        {
          "output_type": "stream",
          "name": "stdout",
          "text": [
            "Yes! it is present in the string\n"
          ]
        }
      ]
    },
    {
      "cell_type": "code",
      "source": [
        "#Convert Snake case to Pascal case\n",
        "string = 'hassan_masood'\n",
        "words = string.split('_')\n",
        "capitalized_words = [word.title() for word in words]\n",
        "result = ''.join(capitalized_words)\n",
        "\n",
        "print(result)"
      ],
      "metadata": {
        "colab": {
          "base_uri": "https://localhost:8080/"
        },
        "id": "KZDMIGE41ert",
        "outputId": "4068d8a8-a711-406f-8d4c-6742c90fd5ce"
      },
      "execution_count": 82,
      "outputs": [
        {
          "output_type": "stream",
          "name": "stdout",
          "text": [
            "HassanMasood\n"
          ]
        }
      ]
    },
    {
      "cell_type": "code",
      "source": [
        "from collections import Counter\n",
        "test_str = \"hassan\"\n",
        "res = Counter(test_str)\n",
        "res = min(res, key = res.get)\n",
        "print (\"The minimum of all characters in hassan is : \" + str(res))"
      ],
      "metadata": {
        "colab": {
          "base_uri": "https://localhost:8080/"
        },
        "id": "drqKp5dk124T",
        "outputId": "eb2b78e3-d455-4146-af69-dbfda94356e0"
      },
      "execution_count": 83,
      "outputs": [
        {
          "output_type": "stream",
          "name": "stdout",
          "text": [
            "The minimum of all characters in hassan is : h\n"
          ]
        }
      ]
    },
    {
      "cell_type": "code",
      "source": [
        "import string\n",
        "def check_string(s):\n",
        "    for c in s:\n",
        "        if c in string.punctuation:\n",
        "            print(\"String is not accepted\")\n",
        "            return\n",
        "    print(\"String is accepted\")\n",
        "\n",
        "check_string(\"Hassan@masood\")\n",
        "check_string(\"Hassan Masood\")"
      ],
      "metadata": {
        "colab": {
          "base_uri": "https://localhost:8080/"
        },
        "id": "iinsVaLE2sAJ",
        "outputId": "9120e424-a4e3-4a4f-ea39-bdb5226723dc"
      },
      "execution_count": 84,
      "outputs": [
        {
          "output_type": "stream",
          "name": "stdout",
          "text": [
            "String is not accepted\n",
            "String is accepted\n"
          ]
        }
      ]
    },
    {
      "cell_type": "code",
      "source": [
        "# to split and join given string\n",
        "s = 'Hassan Masood'\n",
        "print(s.split(\" \"))\n",
        "print(\"-\".join(s.split()))"
      ],
      "metadata": {
        "colab": {
          "base_uri": "https://localhost:8080/"
        },
        "id": "WX4HU2SY3G6S",
        "outputId": "4cb6783f-ae68-457b-938f-061cbfe354cc"
      },
      "execution_count": 85,
      "outputs": [
        {
          "output_type": "stream",
          "name": "stdout",
          "text": [
            "['Hassan', 'Masood']\n",
            "Hassan-Masood\n"
          ]
        }
      ]
    },
    {
      "cell_type": "code",
      "source": [
        "input_string = \"Hassan Masood\"\n",
        "s1 = \"Hassan\"\n",
        "s2 = \"ababab\"\n",
        "input_string = input_string.replace(s1, s2)\n",
        "print(input_string)"
      ],
      "metadata": {
        "colab": {
          "base_uri": "https://localhost:8080/"
        },
        "id": "DxMVZUdO3077",
        "outputId": "418460d9-b547-4e73-8a07-e8f3cebb4a17"
      },
      "execution_count": 86,
      "outputs": [
        {
          "output_type": "stream",
          "name": "stdout",
          "text": [
            "ababab Masood\n"
          ]
        }
      ]
    },
    {
      "cell_type": "markdown",
      "source": [
        "**Tuple**"
      ],
      "metadata": {
        "id": "R-2FtZxx4XvE"
      }
    },
    {
      "cell_type": "code",
      "source": [
        "# sample Tuples\n",
        "Tuple1 = (\"A\", 1, \"B\", 2, \"C\", 3)\n",
        "Tuple2 = (\"Geek1\", \"Raju\", \"Geek2\", \"Nikhil\", \"Geek3\", \"Deepanshu\")\n",
        "Tuple3 = ((1, \"Lion\"), ( 2, \"Tiger\"), (3, \"Fox\"), (4, \"Wolf\"))\n",
        "print(\"Size of Tuple1: \" + str(Tuple1.__sizeof__()) + \"bytes\")\n",
        "print(\"Size of Tuple2: \" + str(Tuple2.__sizeof__()) + \"bytes\")\n",
        "print(\"Size of Tuple3: \" + str(Tuple3.__sizeof__()) + \"bytes\")"
      ],
      "metadata": {
        "colab": {
          "base_uri": "https://localhost:8080/"
        },
        "id": "iwIJdF8u4fVQ",
        "outputId": "75e1dd24-957d-426d-e92d-5afdd8ef0273"
      },
      "execution_count": 87,
      "outputs": [
        {
          "output_type": "stream",
          "name": "stdout",
          "text": [
            "Size of Tuple1: 72bytes\n",
            "Size of Tuple2: 72bytes\n",
            "Size of Tuple3: 56bytes\n"
          ]
        }
      ]
    },
    {
      "cell_type": "code",
      "source": [
        "# Maximum and Minimum K elements in Tuple\n",
        "test_tup = (5, 20, 3, 7, 6, 8)\n",
        "K = 2\n",
        "test_tup = list(test_tup)\n",
        "temp = sorted(test_tup)\n",
        "res = tuple(temp[:K] + temp[-K:])\n",
        "print(\"The extracted values : \" + str(res))"
      ],
      "metadata": {
        "colab": {
          "base_uri": "https://localhost:8080/"
        },
        "id": "u0EgrNJ351Ri",
        "outputId": "d4e9da65-b24d-40da-a01f-badde400ef0a"
      },
      "execution_count": 88,
      "outputs": [
        {
          "output_type": "stream",
          "name": "stdout",
          "text": [
            "The extracted values : (3, 5, 8, 20)\n"
          ]
        }
      ]
    },
    {
      "cell_type": "code",
      "source": [
        "# Remove Tuples of Length K\n",
        "test_list = [(4, 5), (4, ), (8, 6, 7), (1, ), (3, 4, 6, 7)]\n",
        "K = 1\n",
        "res = [ele for ele in test_list if len(ele) != K]\n",
        "print(\"Filtered list : \" + str(res))"
      ],
      "metadata": {
        "colab": {
          "base_uri": "https://localhost:8080/"
        },
        "id": "RAS6zipK6UhP",
        "outputId": "bd56da73-9420-4d62-f511-498ac2dea8f2"
      },
      "execution_count": 89,
      "outputs": [
        {
          "output_type": "stream",
          "name": "stdout",
          "text": [
            "Filtered list : [(4, 5), (8, 6, 7), (3, 4, 6, 7)]\n"
          ]
        }
      ]
    },
    {
      "cell_type": "code",
      "source": [
        "#sort tuple\n",
        "from operator import itemgetter\n",
        "def sort_tuples(tuples):\n",
        "    return sorted(tuples, key=itemgetter(1))\n",
        "tuples = [('fast', 24), ('hassan', 8), ('masood', 30)]\n",
        "print(sort_tuples(tuples))"
      ],
      "metadata": {
        "colab": {
          "base_uri": "https://localhost:8080/"
        },
        "id": "5zLLeO1I6kwn",
        "outputId": "982ffd18-4214-42f4-ae9a-d0eab714fb3e"
      },
      "execution_count": 90,
      "outputs": [
        {
          "output_type": "stream",
          "name": "stdout",
          "text": [
            "[('hassan', 8), ('fast', 24), ('masood', 30)]\n"
          ]
        }
      ]
    },
    {
      "cell_type": "markdown",
      "source": [
        "**Dictionary Questions**"
      ],
      "metadata": {
        "id": "lXPP8RH478Lt"
      }
    },
    {
      "cell_type": "code",
      "source": [
        "#Append Dictionary Keys and Values ( In order ) in dictionary\n",
        "test_dict = {\"Gfg\" : 1, \"is\" :  3, \"Best\" : 2}\n",
        "res = list(test_dict.keys()) + list(test_dict.values())\n",
        "print(\"The ordered keys and values : \" + str(res))"
      ],
      "metadata": {
        "colab": {
          "base_uri": "https://localhost:8080/"
        },
        "id": "j7GZHRpC7zsA",
        "outputId": "4b132a72-b637-4e56-901c-0cc512fbfb2a"
      },
      "execution_count": 92,
      "outputs": [
        {
          "output_type": "stream",
          "name": "stdout",
          "text": [
            "The ordered keys and values : ['Gfg', 'is', 'Best', 1, 3, 2]\n"
          ]
        }
      ]
    },
    {
      "cell_type": "code",
      "source": [
        "myDict = {'ravi': 10, 'rajnish': 9,\n",
        "        'sanjeev': 15, 'yash': 2, 'suraj': 32}\n",
        "\n",
        "myKeys = list(myDict.keys())\n",
        "myKeys.sort()\n",
        "sorted_dict = {i: myDict[i] for i in myKeys}\n",
        "\n",
        "print(sorted_dict)"
      ],
      "metadata": {
        "colab": {
          "base_uri": "https://localhost:8080/"
        },
        "id": "ogZtJeoq8Kxx",
        "outputId": "b68201b7-32f5-4ce5-9c7c-f8aad577c71c"
      },
      "execution_count": 93,
      "outputs": [
        {
          "output_type": "stream",
          "name": "stdout",
          "text": [
            "{'rajnish': 9, 'ravi': 10, 'sanjeev': 15, 'suraj': 32, 'yash': 2}\n"
          ]
        }
      ]
    },
    {
      "cell_type": "code",
      "source": [
        "# Function to print sum\n",
        "def returnSum(dict):\n",
        "    sum = 0\n",
        "    for i in dict.values():\n",
        "        sum = sum + i\n",
        "    return sum\n",
        "dict = {'a': 100, 'b': 200, 'c': 300}\n",
        "print(\"Sum :\", returnSum(dict))"
      ],
      "metadata": {
        "colab": {
          "base_uri": "https://localhost:8080/"
        },
        "id": "P5s321868p-H",
        "outputId": "c68dd4d6-76e4-4b7f-cd78-9456dabbf5d9"
      },
      "execution_count": 94,
      "outputs": [
        {
          "output_type": "stream",
          "name": "stdout",
          "text": [
            "Sum : 600\n"
          ]
        }
      ]
    },
    {
      "cell_type": "code",
      "source": [
        "# Python code to convert into dictionary\n",
        "def Convert(tup, di):\n",
        "    for a, b in tup:\n",
        "        di.setdefault(a, []).append(b)\n",
        "    return di\n",
        "tups = [(\"akash\", 10), (\"gaurav\", 12), (\"anand\", 14),\n",
        "        (\"suraj\", 20), (\"akhil\", 25), (\"ashish\", 30)]\n",
        "dictionary = {}\n",
        "print(Convert(tups, dictionary))"
      ],
      "metadata": {
        "colab": {
          "base_uri": "https://localhost:8080/"
        },
        "id": "5cUlnKDQ8_TK",
        "outputId": "091ab62e-3eec-4c21-ecbe-0a57a39b0562"
      },
      "execution_count": 95,
      "outputs": [
        {
          "output_type": "stream",
          "name": "stdout",
          "text": [
            "{'akash': [10], 'gaurav': [12], 'anand': [14], 'suraj': [20], 'akhil': [25], 'ashish': [30]}\n"
          ]
        }
      ]
    }
  ]
}